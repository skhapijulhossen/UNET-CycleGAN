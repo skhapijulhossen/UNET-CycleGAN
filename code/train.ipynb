{
  "cells": [
    {
      "cell_type": "markdown",
      "metadata": {
        "id": "WkHi07Xw_eln"
      },
      "source": [
        "#installs"
      ]
    },
    {
      "cell_type": "code",
      "execution_count": null,
      "metadata": {
        "id": "rs5-iQMY_eUP"
      },
      "outputs": [],
      "source": [
        "# ! pip install -r requirements.txt"
      ]
    },
    {
      "cell_type": "code",
      "execution_count": null,
      "metadata": {
        "id": "rs3AMBFP_eFo"
      },
      "outputs": [],
      "source": [
        "# ! pip install fastapi kaleido python-multipart uvicorn numpy==1.24.1"
      ]
    },
    {
      "cell_type": "code",
      "source": [
        "!pip install torchmetrics[image]\n",
        "!pip install torch-fidelity"
      ],
      "metadata": {
        "colab": {
          "base_uri": "https://localhost:8080/"
        },
        "id": "l4GxEWiIAeey",
        "outputId": "adef3da6-fd27-40a0-dc0e-65a622cee19a"
      },
      "execution_count": null,
      "outputs": [
        {
          "output_type": "stream",
          "name": "stdout",
          "text": [
            "Collecting torchmetrics[image]\n",
            "  Downloading torchmetrics-1.3.1-py3-none-any.whl (840 kB)\n",
            "\u001b[?25l     \u001b[90m━━━━━━━━━━━━━━━━━━━━━━━━━━━━━━━━━━━━━━━━\u001b[0m \u001b[32m0.0/840.4 kB\u001b[0m \u001b[31m?\u001b[0m eta \u001b[36m-:--:--\u001b[0m\r\u001b[2K     \u001b[91m━━━━━━━━━━━━━\u001b[0m\u001b[91m╸\u001b[0m\u001b[90m━━━━━━━━━━━━━━━━━━━━━━━━━━\u001b[0m \u001b[32m286.7/840.4 kB\u001b[0m \u001b[31m8.8 MB/s\u001b[0m eta \u001b[36m0:00:01\u001b[0m\r\u001b[2K     \u001b[91m━━━━━━━━━━━━━━━━━━━━━━━━━━━━━━━━━\u001b[0m\u001b[90m╺\u001b[0m\u001b[90m━━━━━━\u001b[0m \u001b[32m696.3/840.4 kB\u001b[0m \u001b[31m10.3 MB/s\u001b[0m eta \u001b[36m0:00:01\u001b[0m\r\u001b[2K     \u001b[90m━━━━━━━━━━━━━━━━━━━━━━━━━━━━━━━━━━━━━━━━\u001b[0m \u001b[32m840.4/840.4 kB\u001b[0m \u001b[31m9.9 MB/s\u001b[0m eta \u001b[36m0:00:00\u001b[0m\n",
            "\u001b[?25hRequirement already satisfied: numpy>1.20.0 in /usr/local/lib/python3.10/dist-packages (from torchmetrics[image]) (1.25.2)\n",
            "Requirement already satisfied: packaging>17.1 in /usr/local/lib/python3.10/dist-packages (from torchmetrics[image]) (23.2)\n",
            "Requirement already satisfied: torch>=1.10.0 in /usr/local/lib/python3.10/dist-packages (from torchmetrics[image]) (2.1.0+cu121)\n",
            "Collecting lightning-utilities>=0.8.0 (from torchmetrics[image])\n",
            "  Downloading lightning_utilities-0.10.1-py3-none-any.whl (24 kB)\n",
            "Requirement already satisfied: torchvision>=0.8 in /usr/local/lib/python3.10/dist-packages (from torchmetrics[image]) (0.16.0+cu121)\n",
            "Requirement already satisfied: scipy>1.0.0 in /usr/local/lib/python3.10/dist-packages (from torchmetrics[image]) (1.11.4)\n",
            "Collecting torch-fidelity<=0.4.0 (from torchmetrics[image])\n",
            "  Downloading torch_fidelity-0.3.0-py3-none-any.whl (37 kB)\n",
            "Requirement already satisfied: setuptools in /usr/local/lib/python3.10/dist-packages (from lightning-utilities>=0.8.0->torchmetrics[image]) (67.7.2)\n",
            "Requirement already satisfied: typing-extensions in /usr/local/lib/python3.10/dist-packages (from lightning-utilities>=0.8.0->torchmetrics[image]) (4.9.0)\n",
            "Requirement already satisfied: filelock in /usr/local/lib/python3.10/dist-packages (from torch>=1.10.0->torchmetrics[image]) (3.13.1)\n",
            "Requirement already satisfied: sympy in /usr/local/lib/python3.10/dist-packages (from torch>=1.10.0->torchmetrics[image]) (1.12)\n",
            "Requirement already satisfied: networkx in /usr/local/lib/python3.10/dist-packages (from torch>=1.10.0->torchmetrics[image]) (3.2.1)\n",
            "Requirement already satisfied: jinja2 in /usr/local/lib/python3.10/dist-packages (from torch>=1.10.0->torchmetrics[image]) (3.1.3)\n",
            "Requirement already satisfied: fsspec in /usr/local/lib/python3.10/dist-packages (from torch>=1.10.0->torchmetrics[image]) (2023.6.0)\n",
            "Requirement already satisfied: triton==2.1.0 in /usr/local/lib/python3.10/dist-packages (from torch>=1.10.0->torchmetrics[image]) (2.1.0)\n",
            "Requirement already satisfied: Pillow in /usr/local/lib/python3.10/dist-packages (from torch-fidelity<=0.4.0->torchmetrics[image]) (9.4.0)\n",
            "Requirement already satisfied: tqdm in /usr/local/lib/python3.10/dist-packages (from torch-fidelity<=0.4.0->torchmetrics[image]) (4.66.2)\n",
            "Requirement already satisfied: requests in /usr/local/lib/python3.10/dist-packages (from torchvision>=0.8->torchmetrics[image]) (2.31.0)\n",
            "Requirement already satisfied: MarkupSafe>=2.0 in /usr/local/lib/python3.10/dist-packages (from jinja2->torch>=1.10.0->torchmetrics[image]) (2.1.5)\n",
            "Requirement already satisfied: charset-normalizer<4,>=2 in /usr/local/lib/python3.10/dist-packages (from requests->torchvision>=0.8->torchmetrics[image]) (3.3.2)\n",
            "Requirement already satisfied: idna<4,>=2.5 in /usr/local/lib/python3.10/dist-packages (from requests->torchvision>=0.8->torchmetrics[image]) (3.6)\n",
            "Requirement already satisfied: urllib3<3,>=1.21.1 in /usr/local/lib/python3.10/dist-packages (from requests->torchvision>=0.8->torchmetrics[image]) (2.0.7)\n",
            "Requirement already satisfied: certifi>=2017.4.17 in /usr/local/lib/python3.10/dist-packages (from requests->torchvision>=0.8->torchmetrics[image]) (2024.2.2)\n",
            "Requirement already satisfied: mpmath>=0.19 in /usr/local/lib/python3.10/dist-packages (from sympy->torch>=1.10.0->torchmetrics[image]) (1.3.0)\n",
            "Installing collected packages: lightning-utilities, torchmetrics, torch-fidelity\n",
            "Successfully installed lightning-utilities-0.10.1 torch-fidelity-0.3.0 torchmetrics-1.3.1\n",
            "Requirement already satisfied: torch-fidelity in /usr/local/lib/python3.10/dist-packages (0.3.0)\n",
            "Requirement already satisfied: numpy in /usr/local/lib/python3.10/dist-packages (from torch-fidelity) (1.25.2)\n",
            "Requirement already satisfied: Pillow in /usr/local/lib/python3.10/dist-packages (from torch-fidelity) (9.4.0)\n",
            "Requirement already satisfied: scipy in /usr/local/lib/python3.10/dist-packages (from torch-fidelity) (1.11.4)\n",
            "Requirement already satisfied: torch in /usr/local/lib/python3.10/dist-packages (from torch-fidelity) (2.1.0+cu121)\n",
            "Requirement already satisfied: torchvision in /usr/local/lib/python3.10/dist-packages (from torch-fidelity) (0.16.0+cu121)\n",
            "Requirement already satisfied: tqdm in /usr/local/lib/python3.10/dist-packages (from torch-fidelity) (4.66.2)\n",
            "Requirement already satisfied: filelock in /usr/local/lib/python3.10/dist-packages (from torch->torch-fidelity) (3.13.1)\n",
            "Requirement already satisfied: typing-extensions in /usr/local/lib/python3.10/dist-packages (from torch->torch-fidelity) (4.9.0)\n",
            "Requirement already satisfied: sympy in /usr/local/lib/python3.10/dist-packages (from torch->torch-fidelity) (1.12)\n",
            "Requirement already satisfied: networkx in /usr/local/lib/python3.10/dist-packages (from torch->torch-fidelity) (3.2.1)\n",
            "Requirement already satisfied: jinja2 in /usr/local/lib/python3.10/dist-packages (from torch->torch-fidelity) (3.1.3)\n",
            "Requirement already satisfied: fsspec in /usr/local/lib/python3.10/dist-packages (from torch->torch-fidelity) (2023.6.0)\n",
            "Requirement already satisfied: triton==2.1.0 in /usr/local/lib/python3.10/dist-packages (from torch->torch-fidelity) (2.1.0)\n",
            "Requirement already satisfied: requests in /usr/local/lib/python3.10/dist-packages (from torchvision->torch-fidelity) (2.31.0)\n",
            "Requirement already satisfied: MarkupSafe>=2.0 in /usr/local/lib/python3.10/dist-packages (from jinja2->torch->torch-fidelity) (2.1.5)\n",
            "Requirement already satisfied: charset-normalizer<4,>=2 in /usr/local/lib/python3.10/dist-packages (from requests->torchvision->torch-fidelity) (3.3.2)\n",
            "Requirement already satisfied: idna<4,>=2.5 in /usr/local/lib/python3.10/dist-packages (from requests->torchvision->torch-fidelity) (3.6)\n",
            "Requirement already satisfied: urllib3<3,>=1.21.1 in /usr/local/lib/python3.10/dist-packages (from requests->torchvision->torch-fidelity) (2.0.7)\n",
            "Requirement already satisfied: certifi>=2017.4.17 in /usr/local/lib/python3.10/dist-packages (from requests->torchvision->torch-fidelity) (2024.2.2)\n",
            "Requirement already satisfied: mpmath>=0.19 in /usr/local/lib/python3.10/dist-packages (from sympy->torch->torch-fidelity) (1.3.0)\n"
          ]
        }
      ]
    },
    {
      "cell_type": "code",
      "source": [],
      "metadata": {
        "id": "ixxSrMj1W22c"
      },
      "execution_count": null,
      "outputs": []
    },
    {
      "cell_type": "code",
      "source": [],
      "metadata": {
        "id": "xBriRvB9W2yn"
      },
      "execution_count": null,
      "outputs": []
    },
    {
      "cell_type": "code",
      "source": [],
      "metadata": {
        "id": "pxdyjrEWW2ZU"
      },
      "execution_count": null,
      "outputs": []
    },
    {
      "cell_type": "markdown",
      "metadata": {
        "id": "nUN5kiwY-6bq"
      },
      "source": [
        "#imports"
      ]
    },
    {
      "cell_type": "code",
      "execution_count": null,
      "metadata": {
        "id": "CH0U1uQm-28P"
      },
      "outputs": [],
      "source": [
        "import torch\n",
        "import albumentations as alb\n",
        "from albumentations.pytorch import ToTensorV2\n",
        "import torch.nn as nn\n",
        "import pandas as pd\n",
        "from PIL import Image\n",
        "import os\n",
        "from torch.utils.data import Dataset\n",
        "import numpy as np\n",
        "import sys\n",
        "from torch.utils.data import DataLoader\n",
        "import torch.optim as optim\n",
        "from tqdm import tqdm\n",
        "from torchvision.utils import save_image\n",
        "import torch.nn as nn\n",
        "import torch.nn.functional as F\n",
        "from torch.utils.data.sampler import SubsetRandomSampler\n",
        "from torchvision import datasets, transforms as tf\n",
        "from torchvision.models import inception_v3\n",
        "import albumentations as alb"
      ]
    },
    {
      "cell_type": "code",
      "source": [
        "from dataset import *\n",
        "from utils import *\n",
        "from model import *\n",
        "from evaluation import *"
      ],
      "metadata": {
        "id": "pSHlYcXGXDH9"
      },
      "execution_count": null,
      "outputs": []
    },
    {
      "cell_type": "code",
      "source": [
        "from google.colab import drive\n",
        "drive.mount('/content/drive')"
      ],
      "metadata": {
        "id": "fJ7sXewxSQkW",
        "colab": {
          "base_uri": "https://localhost:8080/"
        },
        "outputId": "328f3ca0-5158-4849-99c0-70219827c55f"
      },
      "execution_count": null,
      "outputs": [
        {
          "output_type": "stream",
          "name": "stdout",
          "text": [
            "Drive already mounted at /content/drive; to attempt to forcibly remount, call drive.mount(\"/content/drive\", force_remount=True).\n"
          ]
        }
      ]
    },
    {
      "cell_type": "markdown",
      "metadata": {
        "id": "T7T_Y6VJ-yUD"
      },
      "source": [
        "#Configuration"
      ]
    },
    {
      "cell_type": "code",
      "execution_count": null,
      "metadata": {
        "id": "2xJ0N1ZL-CBV"
      },
      "outputs": [],
      "source": [
        "\n",
        "\n",
        "DEVICE = \"cuda\" if torch.cuda.is_available() else \"cpu\"\n",
        "TRAIN_DIR = \"/content/drive/MyDrive/Colab Notebooks/Steganography/data/train\"\n",
        "VAL_DIR = \"/content/drive/MyDrive/Colab Notebooks/Steganography/data/test\"\n",
        "BATCH_SIZE = 8\n",
        "LEARNING_RATE = 1e-5\n",
        "LAMBDA_IDENTITY = 0.0\n",
        "LAMBDA_CYCLE = 10\n",
        "NUM_WORKERS = 2\n",
        "NUM_EPOCHS = 1\n",
        "LOAD_MODEL = False\n",
        "SAVE_MODEL = True\n",
        "CHECKPOINT_GEN_X= \"genX.pth.tar\"\n",
        "CHECKPOINT_GEN_Y = \"genY.pth.tar\"\n",
        "CHECKPOINT_DISC_X = \"discX.pth.tar\"\n",
        "CHECKPOINT_DISC_Y = \"discY.pth.tar\"\n",
        "SAVE_PATH = '/content/drive/MyDrive/Colab Notebooks/Steganography/models'\n",
        "\n",
        "### Transformations before feeding\n",
        "# transforms = alb.Compose(\n",
        "#     [\n",
        "#         alb.Resize(width=256, height=256),\n",
        "#         alb.HorizontalFlip(p=0.5),\n",
        "#         alb.Normalize(mean=[0.5, 0.5, 0.5], std=[\n",
        "#                       0.5, 0.5, 0.5], max_pixel_value=255),\n",
        "#         ToTensorV2(),\n",
        "#     ],\n",
        "#     additional_targets={\"image0\": \"image\"},\n",
        "# )"
      ]
    },
    {
      "cell_type": "code",
      "execution_count": null,
      "metadata": {
        "id": "cwVqP7zIEB8O"
      },
      "outputs": [],
      "source": []
    },
    {
      "cell_type": "code",
      "source": [],
      "metadata": {
        "id": "WrFs4S7S6gtq"
      },
      "execution_count": null,
      "outputs": []
    },
    {
      "cell_type": "code",
      "execution_count": null,
      "metadata": {
        "id": "P0LGwI1xEW8B"
      },
      "outputs": [],
      "source": []
    },
    {
      "cell_type": "code",
      "execution_count": null,
      "metadata": {
        "id": "i3VUYwGNEW5S"
      },
      "outputs": [],
      "source": []
    },
    {
      "cell_type": "markdown",
      "metadata": {
        "id": "970pCKQaXyfx"
      },
      "source": [
        "# Training"
      ]
    },
    {
      "cell_type": "code",
      "execution_count": null,
      "metadata": {
        "id": "fO2JO8Q8Xxp2"
      },
      "outputs": [],
      "source": [
        "transforms_alb = alb.Compose(\n",
        "    [\n",
        "        alb.Resize(width=256, height=256),\n",
        "        ToTensorV2(),\n",
        "    ],\n",
        "    additional_targets={\"image0\": \"image\"},\n",
        ")"
      ]
    },
    {
      "cell_type": "code",
      "source": [],
      "metadata": {
        "id": "Xoe_ACGL0YYL"
      },
      "execution_count": null,
      "outputs": []
    },
    {
      "cell_type": "code",
      "execution_count": null,
      "metadata": {
        "id": "ky_vO2GZXxny"
      },
      "outputs": [],
      "source": [
        "def train_fn(disc_X, disc_Y, gen_Y, gen_X, loader, opt_disc, opt_gen, l1, mse, d_scaler, g_scaler, embed, steganolysis):\n",
        "    X_reals = 0\n",
        "    X_fakes = 0\n",
        "    loop = tqdm(loader, leave=True)\n",
        "\n",
        "    for idx, (Y, X) in enumerate(loop):\n",
        "        Y = Y.to(DEVICE).type(torch.float16)\n",
        "        X = X.to(DEVICE).type(torch.float16)\n",
        "\n",
        "        # Train Discriminators X and Y\n",
        "        with torch.cuda.amp.autocast():\n",
        "            fake_X = gen_X(Y)\n",
        "\n",
        "            D_X_real = disc_X(X)\n",
        "            D_X_fake = disc_X(fake_X.detach())\n",
        "            X_reals += D_X_real.mean().item()\n",
        "            X_fakes += D_X_fake.mean().item()\n",
        "            D_X_real_loss = mse(D_X_real, torch.ones_like(D_X_real))\n",
        "            D_X_fake_loss = mse(D_X_fake, torch.zeros_like(D_X_fake))\n",
        "            D_X_loss = D_X_real_loss + D_X_fake_loss\n",
        "\n",
        "            # steganolysis\n",
        "            embed_X = embed(fake_X.detach().type(torch.uint8), text='SECRET')\n",
        "            STEGO_LOSS_X = mse(steganolysis(fake_X.detach().type(torch.uint8)), steganolysis(embed_X.detach().type(torch.uint8)))\n",
        "\n",
        "            fake_Y = gen_Y(X)\n",
        "\n",
        "            D_Y_real = disc_Y(Y)\n",
        "            D_Y_fake = disc_Y(fake_Y.detach())\n",
        "            D_Y_real_loss = mse(D_Y_real, torch.ones_like(D_Y_real))\n",
        "            D_Y_fake_loss = mse(D_Y_fake, torch.zeros_like(D_Y_fake))\n",
        "            D_Y_loss = D_Y_real_loss + D_Y_fake_loss\n",
        "\n",
        "            # steganolysis\n",
        "            embed_Y = embed(fake_Y.detach().type(torch.uint8), text='SECRET')\n",
        "            STEGO_LOSS_Y = mse(steganolysis(fake_Y.detach().type(torch.uint8)), steganolysis(embed_Y.detach().type(torch.uint8)))\n",
        "\n",
        "\n",
        "\n",
        "\n",
        "            # put it togethor\n",
        "            D_loss = (D_X_loss + D_Y_loss + STEGO_LOSS_X + STEGO_LOSS_Y) / 4\n",
        "\n",
        "\n",
        "        opt_disc.zero_grad()\n",
        "        d_scaler.scale(D_loss).backward()\n",
        "        d_scaler.step(opt_disc)\n",
        "        d_scaler.update()\n",
        "\n",
        "\n",
        "\n",
        "        # Train Generators H and Z\n",
        "        with torch.cuda.amp.autocast():\n",
        "            # adversarial loss for both generators\n",
        "            D_X_fake = disc_X(fake_X)\n",
        "            D_Y_fake = disc_Y(fake_Y)\n",
        "            loss_G_X = mse(D_X_fake, torch.ones_like(D_X_fake))\n",
        "            loss_G_Y = mse(D_Y_fake, torch.ones_like(D_Y_fake))\n",
        "\n",
        "            # cycle loss\n",
        "            cycle_X = gen_Y(fake_X)\n",
        "            cycle_Y = gen_X(fake_Y)\n",
        "            cycle_Y_loss = l1(X, cycle_Y)\n",
        "            cycle_X_loss = l1(Y, cycle_X)\n",
        "\n",
        "            # identity loss (remove these for efficiency if you set lambda_identity=0)\n",
        "            identity_Y = gen_Y(Y)\n",
        "            identity_X = gen_X(X)\n",
        "            identity_Y_loss = l1(Y, identity_Y)\n",
        "            identity_X_loss = l1(X, identity_X)\n",
        "\n",
        "            # add all togethor\n",
        "            G_loss = (\n",
        "                loss_G_Y\n",
        "                + loss_G_X\n",
        "                + cycle_Y_loss * LAMBDA_CYCLE\n",
        "                + cycle_X_loss * LAMBDA_CYCLE\n",
        "                + identity_X_loss * LAMBDA_IDENTITY\n",
        "                + identity_Y_loss * LAMBDA_IDENTITY\n",
        "            )\n",
        "\n",
        "        opt_gen.zero_grad()\n",
        "        g_scaler.scale(G_loss).backward()\n",
        "        g_scaler.step(opt_gen)\n",
        "        g_scaler.update()\n",
        "\n",
        "\n",
        "\n",
        "        if idx % 5 == 0:\n",
        "            save_image(X * 0.5 + 0.5, f\"/content/drive/MyDrive/Colab Notebooks/Steganography/outputs_ViT/X_ORG_{idx}.png\")\n",
        "            save_image(Y * 0.5 + 0.5, f\"/content/drive/MyDrive/Colab Notebooks/Steganography/outputs_ViT/Y_ORG_{idx}.png\")\n",
        "            save_image(fake_X * 0.5 + 0.5, f\"/content/drive/MyDrive/Colab Notebooks/Steganography/outputs_ViT/X_{idx}.png\")\n",
        "            save_image(fake_Y * 0.5 + 0.5, f\"/content/drive/MyDrive/Colab Notebooks/Steganography/outputs_ViT/Y_{idx}.png\")\n",
        "\n",
        "\n",
        "        loop.set_postfix(\n",
        "            X_real=X_reals / (idx + 1),X_fake=X_fakes / (idx + 1),\n",
        "            Generator_Loss=G_loss.item(), Discriminator_Loss=D_loss.item()\n",
        "            )\n",
        "\n",
        "    return G_loss.item(), D_loss.item()"
      ]
    },
    {
      "cell_type": "code",
      "source": [],
      "metadata": {
        "id": "r4TfvUz4UHnN"
      },
      "execution_count": null,
      "outputs": []
    },
    {
      "cell_type": "code",
      "source": [],
      "metadata": {
        "id": "DHk8_XoUUHWK"
      },
      "execution_count": null,
      "outputs": []
    },
    {
      "cell_type": "code",
      "source": [],
      "metadata": {
        "id": "T9KykFNdUG-H"
      },
      "execution_count": null,
      "outputs": []
    },
    {
      "cell_type": "code",
      "execution_count": null,
      "metadata": {
        "id": "CMMRwTSTXxlg"
      },
      "outputs": [],
      "source": [
        "def train():\n",
        "    global metrics\n",
        "    # disc_X = Discriminator(in_channels=3).to(DEVICE)\n",
        "    disc_X = ViT((3, 256, 256), n_patches=16, n_blocks=2, hidden_d=8, n_heads=2, out_d=1)\n",
        "    # disc_Y = Discriminator(in_channels=3).to(DEVICE)\n",
        "    disc_Y = ViT((3, 256, 256), n_patches=16, n_blocks=2, hidden_d=8, n_heads=2, out_d=1)\n",
        "    gen_Y = UNET(in_channels=3).to(DEVICE)\n",
        "    gen_X = UNET(in_channels=3).to(DEVICE)\n",
        "    steganolysis = ViT((3, 256, 256), n_patches=16, n_blocks=2, hidden_d=8, n_heads=2, out_d=1)\n",
        "    embed = StegoEmbeddingLayer()\n",
        "\n",
        "    # optimizers\n",
        "    opt_disc = optim.Adam(\n",
        "        list(disc_X.parameters()) + list(disc_Y.parameters()),\n",
        "        lr=LEARNING_RATE,\n",
        "        betas=(0.5, 0.999),\n",
        "    )\n",
        "\n",
        "    opt_gen = optim.Adam(\n",
        "        list(gen_Y.parameters()) + list(gen_X.parameters()),\n",
        "        lr=LEARNING_RATE,\n",
        "        betas=(0.5, 0.999),\n",
        "    )\n",
        "\n",
        "    L1 = nn.L1Loss()\n",
        "    mse = nn.MSELoss()\n",
        "\n",
        "    if LOAD_MODEL:\n",
        "        load_checkpoint(\n",
        "            CHECKPOINT_GEN_X,\n",
        "            gen_X,\n",
        "            opt_gen,\n",
        "            LEARNING_RATE,\n",
        "        )\n",
        "        load_checkpoint(\n",
        "            CHECKPOINT_GEN_Y,\n",
        "            gen_Y,\n",
        "            opt_gen,\n",
        "            LEARNING_RATE,\n",
        "        )\n",
        "        load_checkpoint(\n",
        "            CHECKPOINT_DISC_X,\n",
        "            disc_X,\n",
        "            opt_disc,\n",
        "            LEARNING_RATE,\n",
        "        )\n",
        "        load_checkpoint(\n",
        "            CHECKPOINT_DISC_Y,\n",
        "            disc_Y,\n",
        "            opt_disc,\n",
        "            LEARNING_RATE,\n",
        "        )\n",
        "\n",
        "    dataset = HorseZebraDataset(\n",
        "        root_x=TRAIN_DIR + \"/horses\",\n",
        "        root_y=TRAIN_DIR + \"/zebras\",\n",
        "        transform=transforms_alb,\n",
        "    )\n",
        "    val_dataset = HorseZebraDataset(\n",
        "        root_x=VAL_DIR + \"/horses\",\n",
        "        root_y=VAL_DIR + \"/zebras\",\n",
        "        transform=transforms_alb,\n",
        "    )\n",
        "    val_loader = DataLoader(\n",
        "        val_dataset,\n",
        "        batch_size=2,\n",
        "        shuffle=False,\n",
        "        pin_memory=True,\n",
        "    )\n",
        "    loader = DataLoader(\n",
        "        dataset,\n",
        "        batch_size=BATCH_SIZE,\n",
        "        shuffle=True,\n",
        "        num_workers=NUM_WORKERS,\n",
        "        pin_memory=True,\n",
        "    )\n",
        "    g_scaler = torch.cuda.amp.GradScaler(enabled=False)\n",
        "    d_scaler = torch.cuda.amp.GradScaler(enabled=False)\n",
        "\n",
        "\n",
        "    for epoch in range(NUM_EPOCHS):\n",
        "        g, d = train_fn(disc_X, disc_Y, gen_Y, gen_X, loader, opt_disc, opt_gen, L1, mse, d_scaler, g_scaler, embed, steganolysis)\n",
        "\n",
        "        # Evaluate\n",
        "        scores = pd.DataFrame(columns=['FrechetInceptionDistance', 'InceptionScore_mean', 'InceptionScore_std', 'MSELoss', 'PeakSignalNoiseRatio'])\n",
        "        for idx, (Y, X) in enumerate(val_loader):\n",
        "            Y = Y.to(DEVICE).type(torch.float16)\n",
        "            X = X.to(DEVICE).type(torch.float16)\n",
        "\n",
        "            # Train Discriminators X and Y\n",
        "            with torch.cuda.amp.autocast():\n",
        "                Y_fake = gen_Y(X)\n",
        "                sc = evaluate(Y, Y_fake)\n",
        "                scores.loc[idx] = sc\n",
        "\n",
        "        scores = scores.mean().to_dict()\n",
        "        scores['Discriminator_loss'] = g\n",
        "        scores['Generator_loss'] = d\n",
        "        metrics.loc[epoch] = scores\n",
        "\n",
        "        if SAVE_MODEL and (epoch%1 == 0):\n",
        "            # save_checkpoint(gen_X, opt_gen, filename=CHECKPOINT_GEN_X)\n",
        "            # save_checkpoint(gen_Y, opt_gen, filename=CHECKPOINT_GEN_Y)\n",
        "            # save_checkpoint(disc_X, opt_disc,\n",
        "            #                 filename=CHECKPOINT_DISC_X)\n",
        "            # save_checkpoint(disc_Y, opt_disc,\n",
        "            #                 filename=CHECKPOINT_DISC_Y)\n",
        "\n",
        "\n",
        "            torch.save(gen_X.state_dict(), SAVE_PATH+'/GenX.pt')\n",
        "            torch.save(gen_Y.state_dict(), SAVE_PATH+'/GenY.pt')\n",
        "            torch.save(disc_X.state_dict(), SAVE_PATH+'/DiscX.pt')\n",
        "            torch.save(disc_Y.state_dict(), SAVE_PATH+'/DiscY.pt')\n",
        "\n"
      ]
    },
    {
      "cell_type": "code",
      "execution_count": null,
      "metadata": {
        "id": "o0USQf5-KAqc",
        "colab": {
          "base_uri": "https://localhost:8080/"
        },
        "outputId": "e5ff4c94-c127-446c-d16b-6320e00f95a8"
      },
      "outputs": [
        {
          "output_type": "stream",
          "name": "stderr",
          "text": [
            "  1%|          | 2/167 [05:27<7:25:59, 162.18s/it, Discriminator_Loss=2.28e+3, Generator_Loss=2.51e+3, X_fake=0.0556, X_real=24.1]"
          ]
        }
      ],
      "source": [
        "import warnings\n",
        "warnings.filterwarnings(action='ignore')\n",
        "metrics = pd.DataFrame(columns=['Discriminator_loss', 'Generator_loss','FrechetInceptionDistance', 'InceptionScore_mean', 'InceptionScore_std', 'MSELoss', 'PeakSignalNoiseRatio'])\n",
        "seed_everything()\n",
        "train()"
      ]
    },
    {
      "cell_type": "code",
      "source": [
        "metrics"
      ],
      "metadata": {
        "id": "NfA6u4xVKV5L",
        "colab": {
          "base_uri": "https://localhost:8080/",
          "height": 89
        },
        "outputId": "2853d773-1a08-4d3d-bcab-edeb7706e4d8"
      },
      "execution_count": null,
      "outputs": [
        {
          "output_type": "execute_result",
          "data": {
            "text/plain": [
              "   Discriminator_loss  Generator_loss  FrechetInceptionDistance  \\\n",
              "0         2423.458984     2193.364502                 38.435779   \n",
              "\n",
              "   InceptionScore_mean  InceptionScore_std       MSELoss  PeakSignalNoiseRatio  \n",
              "0                  1.0        3.041095e-08  16990.459508               5.90778  "
            ],
            "text/html": [
              "\n",
              "  <div id=\"df-1df82a34-1c89-4603-9f5c-5c48f02c8588\" class=\"colab-df-container\">\n",
              "    <div>\n",
              "<style scoped>\n",
              "    .dataframe tbody tr th:only-of-type {\n",
              "        vertical-align: middle;\n",
              "    }\n",
              "\n",
              "    .dataframe tbody tr th {\n",
              "        vertical-align: top;\n",
              "    }\n",
              "\n",
              "    .dataframe thead th {\n",
              "        text-align: right;\n",
              "    }\n",
              "</style>\n",
              "<table border=\"1\" class=\"dataframe\">\n",
              "  <thead>\n",
              "    <tr style=\"text-align: right;\">\n",
              "      <th></th>\n",
              "      <th>Discriminator_loss</th>\n",
              "      <th>Generator_loss</th>\n",
              "      <th>FrechetInceptionDistance</th>\n",
              "      <th>InceptionScore_mean</th>\n",
              "      <th>InceptionScore_std</th>\n",
              "      <th>MSELoss</th>\n",
              "      <th>PeakSignalNoiseRatio</th>\n",
              "    </tr>\n",
              "  </thead>\n",
              "  <tbody>\n",
              "    <tr>\n",
              "      <th>0</th>\n",
              "      <td>2423.458984</td>\n",
              "      <td>2193.364502</td>\n",
              "      <td>38.435779</td>\n",
              "      <td>1.0</td>\n",
              "      <td>3.041095e-08</td>\n",
              "      <td>16990.459508</td>\n",
              "      <td>5.90778</td>\n",
              "    </tr>\n",
              "  </tbody>\n",
              "</table>\n",
              "</div>\n",
              "    <div class=\"colab-df-buttons\">\n",
              "\n",
              "  <div class=\"colab-df-container\">\n",
              "    <button class=\"colab-df-convert\" onclick=\"convertToInteractive('df-1df82a34-1c89-4603-9f5c-5c48f02c8588')\"\n",
              "            title=\"Convert this dataframe to an interactive table.\"\n",
              "            style=\"display:none;\">\n",
              "\n",
              "  <svg xmlns=\"http://www.w3.org/2000/svg\" height=\"24px\" viewBox=\"0 -960 960 960\">\n",
              "    <path d=\"M120-120v-720h720v720H120Zm60-500h600v-160H180v160Zm220 220h160v-160H400v160Zm0 220h160v-160H400v160ZM180-400h160v-160H180v160Zm440 0h160v-160H620v160ZM180-180h160v-160H180v160Zm440 0h160v-160H620v160Z\"/>\n",
              "  </svg>\n",
              "    </button>\n",
              "\n",
              "  <style>\n",
              "    .colab-df-container {\n",
              "      display:flex;\n",
              "      gap: 12px;\n",
              "    }\n",
              "\n",
              "    .colab-df-convert {\n",
              "      background-color: #E8F0FE;\n",
              "      border: none;\n",
              "      border-radius: 50%;\n",
              "      cursor: pointer;\n",
              "      display: none;\n",
              "      fill: #1967D2;\n",
              "      height: 32px;\n",
              "      padding: 0 0 0 0;\n",
              "      width: 32px;\n",
              "    }\n",
              "\n",
              "    .colab-df-convert:hover {\n",
              "      background-color: #E2EBFA;\n",
              "      box-shadow: 0px 1px 2px rgba(60, 64, 67, 0.3), 0px 1px 3px 1px rgba(60, 64, 67, 0.15);\n",
              "      fill: #174EA6;\n",
              "    }\n",
              "\n",
              "    .colab-df-buttons div {\n",
              "      margin-bottom: 4px;\n",
              "    }\n",
              "\n",
              "    [theme=dark] .colab-df-convert {\n",
              "      background-color: #3B4455;\n",
              "      fill: #D2E3FC;\n",
              "    }\n",
              "\n",
              "    [theme=dark] .colab-df-convert:hover {\n",
              "      background-color: #434B5C;\n",
              "      box-shadow: 0px 1px 3px 1px rgba(0, 0, 0, 0.15);\n",
              "      filter: drop-shadow(0px 1px 2px rgba(0, 0, 0, 0.3));\n",
              "      fill: #FFFFFF;\n",
              "    }\n",
              "  </style>\n",
              "\n",
              "    <script>\n",
              "      const buttonEl =\n",
              "        document.querySelector('#df-1df82a34-1c89-4603-9f5c-5c48f02c8588 button.colab-df-convert');\n",
              "      buttonEl.style.display =\n",
              "        google.colab.kernel.accessAllowed ? 'block' : 'none';\n",
              "\n",
              "      async function convertToInteractive(key) {\n",
              "        const element = document.querySelector('#df-1df82a34-1c89-4603-9f5c-5c48f02c8588');\n",
              "        const dataTable =\n",
              "          await google.colab.kernel.invokeFunction('convertToInteractive',\n",
              "                                                    [key], {});\n",
              "        if (!dataTable) return;\n",
              "\n",
              "        const docLinkHtml = 'Like what you see? Visit the ' +\n",
              "          '<a target=\"_blank\" href=https://colab.research.google.com/notebooks/data_table.ipynb>data table notebook</a>'\n",
              "          + ' to learn more about interactive tables.';\n",
              "        element.innerHTML = '';\n",
              "        dataTable['output_type'] = 'display_data';\n",
              "        await google.colab.output.renderOutput(dataTable, element);\n",
              "        const docLink = document.createElement('div');\n",
              "        docLink.innerHTML = docLinkHtml;\n",
              "        element.appendChild(docLink);\n",
              "      }\n",
              "    </script>\n",
              "  </div>\n",
              "\n",
              "\n",
              "  <div id=\"id_6a54abae-d7a9-42e4-9b0b-07884e19c5a0\">\n",
              "    <style>\n",
              "      .colab-df-generate {\n",
              "        background-color: #E8F0FE;\n",
              "        border: none;\n",
              "        border-radius: 50%;\n",
              "        cursor: pointer;\n",
              "        display: none;\n",
              "        fill: #1967D2;\n",
              "        height: 32px;\n",
              "        padding: 0 0 0 0;\n",
              "        width: 32px;\n",
              "      }\n",
              "\n",
              "      .colab-df-generate:hover {\n",
              "        background-color: #E2EBFA;\n",
              "        box-shadow: 0px 1px 2px rgba(60, 64, 67, 0.3), 0px 1px 3px 1px rgba(60, 64, 67, 0.15);\n",
              "        fill: #174EA6;\n",
              "      }\n",
              "\n",
              "      [theme=dark] .colab-df-generate {\n",
              "        background-color: #3B4455;\n",
              "        fill: #D2E3FC;\n",
              "      }\n",
              "\n",
              "      [theme=dark] .colab-df-generate:hover {\n",
              "        background-color: #434B5C;\n",
              "        box-shadow: 0px 1px 3px 1px rgba(0, 0, 0, 0.15);\n",
              "        filter: drop-shadow(0px 1px 2px rgba(0, 0, 0, 0.3));\n",
              "        fill: #FFFFFF;\n",
              "      }\n",
              "    </style>\n",
              "    <button class=\"colab-df-generate\" onclick=\"generateWithVariable('metrics')\"\n",
              "            title=\"Generate code using this dataframe.\"\n",
              "            style=\"display:none;\">\n",
              "\n",
              "  <svg xmlns=\"http://www.w3.org/2000/svg\" height=\"24px\"viewBox=\"0 0 24 24\"\n",
              "       width=\"24px\">\n",
              "    <path d=\"M7,19H8.4L18.45,9,17,7.55,7,17.6ZM5,21V16.75L18.45,3.32a2,2,0,0,1,2.83,0l1.4,1.43a1.91,1.91,0,0,1,.58,1.4,1.91,1.91,0,0,1-.58,1.4L9.25,21ZM18.45,9,17,7.55Zm-12,3A5.31,5.31,0,0,0,4.9,8.1,5.31,5.31,0,0,0,1,6.5,5.31,5.31,0,0,0,4.9,4.9,5.31,5.31,0,0,0,6.5,1,5.31,5.31,0,0,0,8.1,4.9,5.31,5.31,0,0,0,12,6.5,5.46,5.46,0,0,0,6.5,12Z\"/>\n",
              "  </svg>\n",
              "    </button>\n",
              "    <script>\n",
              "      (() => {\n",
              "      const buttonEl =\n",
              "        document.querySelector('#id_6a54abae-d7a9-42e4-9b0b-07884e19c5a0 button.colab-df-generate');\n",
              "      buttonEl.style.display =\n",
              "        google.colab.kernel.accessAllowed ? 'block' : 'none';\n",
              "\n",
              "      buttonEl.onclick = () => {\n",
              "        google.colab.notebook.generateWithVariable('metrics');\n",
              "      }\n",
              "      })();\n",
              "    </script>\n",
              "  </div>\n",
              "\n",
              "    </div>\n",
              "  </div>\n"
            ],
            "application/vnd.google.colaboratory.intrinsic+json": {
              "type": "dataframe",
              "variable_name": "metrics",
              "summary": "{\n  \"name\": \"metrics\",\n  \"rows\": 1,\n  \"fields\": [\n    {\n      \"column\": \"Discriminator_loss\",\n      \"properties\": {\n        \"dtype\": \"number\",\n        \"std\": NaN,\n        \"min\": 2423.458984375,\n        \"max\": 2423.458984375,\n        \"samples\": [\n          2423.458984375\n        ],\n        \"num_unique_values\": 1,\n        \"semantic_type\": \"\",\n        \"description\": \"\"\n      }\n    },\n    {\n      \"column\": \"Generator_loss\",\n      \"properties\": {\n        \"dtype\": \"number\",\n        \"std\": NaN,\n        \"min\": 2193.364501953125,\n        \"max\": 2193.364501953125,\n        \"samples\": [\n          2193.364501953125\n        ],\n        \"num_unique_values\": 1,\n        \"semantic_type\": \"\",\n        \"description\": \"\"\n      }\n    },\n    {\n      \"column\": \"FrechetInceptionDistance\",\n      \"properties\": {\n        \"dtype\": \"number\",\n        \"std\": NaN,\n        \"min\": 38.43577946254185,\n        \"max\": 38.43577946254185,\n        \"samples\": [\n          38.43577946254185\n        ],\n        \"num_unique_values\": 1,\n        \"semantic_type\": \"\",\n        \"description\": \"\"\n      }\n    },\n    {\n      \"column\": \"InceptionScore_mean\",\n      \"properties\": {\n        \"dtype\": \"number\",\n        \"std\": NaN,\n        \"min\": 0.9999999931880406,\n        \"max\": 0.9999999931880406,\n        \"samples\": [\n          0.9999999931880406\n        ],\n        \"num_unique_values\": 1,\n        \"semantic_type\": \"\",\n        \"description\": \"\"\n      }\n    },\n    {\n      \"column\": \"InceptionScore_std\",\n      \"properties\": {\n        \"dtype\": \"number\",\n        \"std\": NaN,\n        \"min\": 3.04109510653104e-08,\n        \"max\": 3.04109510653104e-08,\n        \"samples\": [\n          3.04109510653104e-08\n        ],\n        \"num_unique_values\": 1,\n        \"semantic_type\": \"\",\n        \"description\": \"\"\n      }\n    },\n    {\n      \"column\": \"MSELoss\",\n      \"properties\": {\n        \"dtype\": \"number\",\n        \"std\": NaN,\n        \"min\": 16990.459507533484,\n        \"max\": 16990.459507533484,\n        \"samples\": [\n          16990.459507533484\n        ],\n        \"num_unique_values\": 1,\n        \"semantic_type\": \"\",\n        \"description\": \"\"\n      }\n    },\n    {\n      \"column\": \"PeakSignalNoiseRatio\",\n      \"properties\": {\n        \"dtype\": \"number\",\n        \"std\": NaN,\n        \"min\": 5.907780320303781,\n        \"max\": 5.907780320303781,\n        \"samples\": [\n          5.907780320303781\n        ],\n        \"num_unique_values\": 1,\n        \"semantic_type\": \"\",\n        \"description\": \"\"\n      }\n    }\n  ]\n}"
            }
          },
          "metadata": {},
          "execution_count": 15
        }
      ]
    },
    {
      "cell_type": "code",
      "source": [],
      "metadata": {
        "id": "I9O93Kq9KVnE"
      },
      "execution_count": null,
      "outputs": []
    },
    {
      "cell_type": "code",
      "source": [],
      "metadata": {
        "id": "m8JfQosSvjwW"
      },
      "execution_count": null,
      "outputs": []
    },
    {
      "cell_type": "markdown",
      "metadata": {
        "id": "ITMq-sLjGxMC"
      },
      "source": [
        "# SAVE MODELS"
      ]
    },
    {
      "cell_type": "code",
      "execution_count": null,
      "metadata": {
        "id": "IJiy7eSGFoyO"
      },
      "outputs": [],
      "source": [
        "metrics.to_csv(\"/content/drive/MyDrive/Colab Notebooks/Steganography/ViTMetrics.csv\", index=False)"
      ]
    },
    {
      "cell_type": "code",
      "execution_count": null,
      "metadata": {
        "id": "HOKEO9GkFove"
      },
      "outputs": [],
      "source": []
    }
  ],
  "metadata": {
    "accelerator": "GPU",
    "colab": {
      "provenance": [],
      "gpuType": "T4",
      "collapsed_sections": [
        "WkHi07Xw_eln",
        "nUN5kiwY-6bq",
        "T7T_Y6VJ-yUD"
      ]
    },
    "kernelspec": {
      "display_name": "Python 3",
      "name": "python3"
    },
    "language_info": {
      "name": "python"
    }
  },
  "nbformat": 4,
  "nbformat_minor": 0
}